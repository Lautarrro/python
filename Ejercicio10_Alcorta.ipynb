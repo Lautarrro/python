{
  "metadata": {
    "language_info": {
      "codemirror_mode": {
        "name": "python",
        "version": 3
      },
      "file_extension": ".py",
      "mimetype": "text/x-python",
      "name": "python",
      "nbconvert_exporter": "python",
      "pygments_lexer": "ipython3",
      "version": "3.8"
    },
    "kernelspec": {
      "name": "python",
      "display_name": "Pyolite",
      "language": "python"
    }
  },
  "nbformat_minor": 4,
  "nbformat": 4,
  "cells": [
    {
      "cell_type": "code",
      "source": "def correccion_listas(l):\n    j=0\n    for elem in l:   \n         elem=elem.replace('\\n',' ').replace(',',' ')\n         l[j]=elem\n         j=j + 1\n    return l",
      "metadata": {
        "trusted": true
      },
      "execution_count": 2,
      "outputs": []
    },
    {
      "cell_type": "markdown",
      "source": "Itero cada una de las listas creadas para remplazarles el ',' '\\n' por espacios y retorno la lista con sus respectivos strings",
      "metadata": {}
    },
    {
      "cell_type": "code",
      "source": "def suma(list1,lista2):\n    long=len(lista_primer_eval)\n    suma_eval=[]\n    i=0\n    while(i != long):\n        suma=int(lista_primer_eval[i])+ int(lista_seg_eval[i])\n        suma_eval.append(str(suma))\n        i=i+1\n    return suma_eval",
      "metadata": {},
      "execution_count": null,
      "outputs": []
    },
    {
      "cell_type": "markdown",
      "source": "Creo una lista nueva la cual contendra la suma de las notas para cada estudiante, manteniendo el orden en el que las notas fueron dadas",
      "metadata": {}
    },
    {
      "cell_type": "code",
      "source": "def recorriendo_lista(l):\n    count=0\n    for elem in l:\n        count=count + 1\n    return count   ",
      "metadata": {},
      "execution_count": null,
      "outputs": []
    },
    {
      "cell_type": "markdown",
      "source": "Recorro la lista de nombres y cuento la cantidad de alumnos que tengo y retorno la cantidad de ellos",
      "metadata": {}
    },
    {
      "cell_type": "code",
      "source": "def promedio(evals,cant_alumnos):\n    total=0\n    for elem in evals:\n        total= total + int(elem)\n    prom=total/cant_alumnos\n    return prom",
      "metadata": {},
      "execution_count": null,
      "outputs": []
    },
    {
      "cell_type": "markdown",
      "source": "recorro mi lista de suma de evaluaciones, para sumar el total de notas obtenidas y dividirlas por la cantidad de alumnos y retorno el prom.",
      "metadata": {}
    },
    {
      "cell_type": "code",
      "source": "def menos_que_el_prom(evals,prom,name):\n    archivo=open('menosQueElPromedio.txt',mode='w', encoding='utf-8')\n    lista_alumnos=list()\n    i=0\n    for elem in evals:\n        if(int(elem) < prom):\n            lista_alumnos.append(name[i]+ ': '+ evals[i])\n            archivo.writelines(name[i] +': '+evals[i])\n            archivo.write('\\n')\n        i= i + 1\n    archivo.close()\n    return lista_alumnos ",
      "metadata": {},
      "execution_count": null,
      "outputs": []
    },
    {
      "cell_type": "markdown",
      "source": "Creo un archivo para escribir,  luego itero sobre las avaluaciones y comparo cada elementos con el promedio de notas. Si tuvieron notas inferiores a el promedio entonces escribo el nombre y la nota de esos alumnos en mi archivo pero ademas los agrego a una lista que cree al principio de la funcion\nLuego lo cierro al archivo creado y retorno la lista_alumnos para poder imprimir aquellos alumnos que la suma de sus notas son inferiores a el promedio.",
      "metadata": {}
    },
    {
      "cell_type": "code",
      "source": "nombre=open('./nombres_1.txt',mode='r',encoding='utf-8')\nevaluacion_1=open('./eval1.txt',mode='r',encoding='utf-8')\nevaluacion_2=open('./eval2.txt',mode='r',encoding='utf-8')",
      "metadata": {},
      "execution_count": null,
      "outputs": []
    },
    {
      "cell_type": "markdown",
      "source": "abro los archivos en el modo r(solo lectura). Los archivos estaban en la misma carpeta en donde trabajo el ejercicio 10.",
      "metadata": {}
    },
    {
      "cell_type": "code",
      "source": "lista_nombres=nombre.readlines()\nlista_primer_eval=evaluacion_1.readlines()\nlista_seg_eval=evaluacion_2.readlines()",
      "metadata": {},
      "execution_count": null,
      "outputs": []
    },
    {
      "cell_type": "markdown",
      "source": "Tomo el archivo y lo convierto en una lista apartir del modo readlines, que lee el archivo de texto por lineas",
      "metadata": {}
    },
    {
      "cell_type": "code",
      "source": "correccion_listas(lista_nombres)\ncorreccion_listas(lista_primer_eval)\ncorreccion_listas(lista_seg_eval)",
      "metadata": {},
      "execution_count": null,
      "outputs": []
    },
    {
      "cell_type": "markdown",
      "source": "llamo a mis funciones para que en mi lista no esten los \\n y las comas. Todo esto es para que mis elementos en las listas esten mas 'limpios' para poder manejarlos",
      "metadata": {}
    },
    {
      "cell_type": "code",
      "source": "suma_eval=suma(lista_primer_eval,lista_seg_eval)\ncant_alumnos=recorriendo_lista(lista_nombres)\npromedio_notas=promedio(suma_eval,cant_alumnos)\nlista_prom_menos=menos_que_el_prom(suma_eval,promedio_notas,lista_nombres)\nprint('Aquellos alumnos que tienen sus notas por debajo del promedio son: ')\nprint(lista_prom_menos)\nnombre.close()\nevaluacion_1.close()\nevaluacion_2.close()",
      "metadata": {},
      "execution_count": null,
      "outputs": []
    },
    {
      "cell_type": "markdown",
      "source": "Invoco a las funciones, suma_eval para sumar las notas de las 2 evaluaciones de los alumnos; cant_alumnos para tener la cantidad de alumnos que rindieron las dos evaluaciones y luego tener el promedio de notas de todos los alumnos con la funcion promedio.A partir de eso creo una lista con los nombres y notas de quellos alumnos que no pasan el promedio de las notas y los imprimo. Luego cierro los archivos de texto que abri.",
      "metadata": {}
    }
  ]
}